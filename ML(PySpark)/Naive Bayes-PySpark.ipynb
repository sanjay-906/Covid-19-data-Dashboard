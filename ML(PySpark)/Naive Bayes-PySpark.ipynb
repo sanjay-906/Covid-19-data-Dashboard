{
 "cells": [
  {
   "cell_type": "code",
   "execution_count": 1,
   "id": "e181daa9",
   "metadata": {},
   "outputs": [],
   "source": [
    "from pyspark.sql import SparkSession\n",
    "from pyspark.sql.functions import length\n",
    "from pyspark.ml.feature import Tokenizer, StopWordsRemover, CountVectorizer, StringIndexer, IDF\n",
    "from pyspark.ml.linalg import Vector\n",
    "from pyspark.ml.feature import VectorAssembler\n",
    "from pyspark.ml.classification import NaiveBayes\n",
    "from pyspark.ml import Pipeline\n",
    "from pyspark.ml.evaluation import MulticlassClassificationEvaluator"
   ]
  },
  {
   "cell_type": "code",
   "execution_count": 2,
   "id": "df5276f1",
   "metadata": {},
   "outputs": [],
   "source": [
    "spark= SparkSession.builder.getOrCreate()"
   ]
  },
  {
   "cell_type": "code",
   "execution_count": 3,
   "id": "717d9cb1",
   "metadata": {},
   "outputs": [],
   "source": [
    "df= spark.read.csv(\"SMSSpamCollection\", inferSchema= True, sep='\\t')"
   ]
  },
  {
   "cell_type": "code",
   "execution_count": 4,
   "id": "7762896b",
   "metadata": {},
   "outputs": [
    {
     "name": "stdout",
     "output_type": "stream",
     "text": [
      "+----+--------------------+\n",
      "| _c0|                 _c1|\n",
      "+----+--------------------+\n",
      "| ham|Go until jurong p...|\n",
      "| ham|Ok lar... Joking ...|\n",
      "|spam|Free entry in 2 a...|\n",
      "| ham|U dun say so earl...|\n",
      "| ham|Nah I don't think...|\n",
      "+----+--------------------+\n",
      "only showing top 5 rows\n",
      "\n"
     ]
    }
   ],
   "source": [
    "df.show(5)"
   ]
  },
  {
   "cell_type": "code",
   "execution_count": 5,
   "id": "e7c8edfe",
   "metadata": {},
   "outputs": [],
   "source": [
    "df= df.withColumnRenamed('_c0', 'class').withColumnRenamed('_c1', 'text')"
   ]
  },
  {
   "cell_type": "code",
   "execution_count": 6,
   "id": "257e41df",
   "metadata": {},
   "outputs": [],
   "source": [
    "df= df.withColumn('length', length(df['text']))"
   ]
  },
  {
   "cell_type": "code",
   "execution_count": 7,
   "id": "7412e1cf",
   "metadata": {},
   "outputs": [
    {
     "name": "stdout",
     "output_type": "stream",
     "text": [
      "+-----+--------------------+------+\n",
      "|class|                text|length|\n",
      "+-----+--------------------+------+\n",
      "|  ham|Go until jurong p...|   111|\n",
      "|  ham|Ok lar... Joking ...|    29|\n",
      "| spam|Free entry in 2 a...|   155|\n",
      "|  ham|U dun say so earl...|    49|\n",
      "|  ham|Nah I don't think...|    61|\n",
      "+-----+--------------------+------+\n",
      "only showing top 5 rows\n",
      "\n"
     ]
    }
   ],
   "source": [
    "df.show(5)"
   ]
  },
  {
   "cell_type": "code",
   "execution_count": 8,
   "id": "aafbf9a6",
   "metadata": {},
   "outputs": [
    {
     "name": "stdout",
     "output_type": "stream",
     "text": [
      "+-----+-----------------+\n",
      "|class|      avg(length)|\n",
      "+-----+-----------------+\n",
      "|  ham|71.45431945307645|\n",
      "| spam|138.6706827309237|\n",
      "+-----+-----------------+\n",
      "\n"
     ]
    }
   ],
   "source": [
    "df.groupby('class').mean().show()"
   ]
  },
  {
   "cell_type": "code",
   "execution_count": 9,
   "id": "4a12697e",
   "metadata": {},
   "outputs": [],
   "source": [
    "tokenizer= Tokenizer(inputCol= 'text', outputCol= 'token_text')\n",
    "stop_word_remover= StopWordsRemover(inputCol= 'token_text', outputCol= \"stop_tokens\")\n",
    "count_vec= CountVectorizer(inputCol= 'stop_tokens', outputCol= 'c_vec')\n",
    "idf= IDF(inputCol= 'c_vec', outputCol= 'tf_idf')\n",
    "labels= StringIndexer(inputCol= 'class', outputCol= \"label\")"
   ]
  },
  {
   "cell_type": "code",
   "execution_count": 10,
   "id": "d0edca0c",
   "metadata": {},
   "outputs": [],
   "source": [
    "cleanned= VectorAssembler(inputCols=['tf_idf', 'length'], outputCol= 'features')"
   ]
  },
  {
   "cell_type": "code",
   "execution_count": 11,
   "id": "671b43c7",
   "metadata": {},
   "outputs": [],
   "source": [
    "nb= NaiveBayes()"
   ]
  },
  {
   "cell_type": "code",
   "execution_count": 12,
   "id": "28a9eb8f",
   "metadata": {},
   "outputs": [],
   "source": [
    "pipeline= Pipeline(stages=[\n",
    "    labels,\n",
    "    tokenizer,\n",
    "    stop_word_remover,\n",
    "    count_vec,\n",
    "    idf,\n",
    "    cleanned\n",
    "])"
   ]
  },
  {
   "cell_type": "code",
   "execution_count": 13,
   "id": "d6811379",
   "metadata": {},
   "outputs": [],
   "source": [
    "cleanner= pipeline.fit(df)"
   ]
  },
  {
   "cell_type": "code",
   "execution_count": 14,
   "id": "7befea64",
   "metadata": {},
   "outputs": [],
   "source": [
    "clean_df= cleanner.transform(df)"
   ]
  },
  {
   "cell_type": "code",
   "execution_count": 15,
   "id": "7b713041",
   "metadata": {},
   "outputs": [
    {
     "name": "stdout",
     "output_type": "stream",
     "text": [
      "+-----+--------------------+------+-----+--------------------+--------------------+--------------------+--------------------+--------------------+\n",
      "|class|                text|length|label|          token_text|         stop_tokens|               c_vec|              tf_idf|            features|\n",
      "+-----+--------------------+------+-----+--------------------+--------------------+--------------------+--------------------+--------------------+\n",
      "|  ham|Go until jurong p...|   111|  0.0|[go, until, juron...|[go, jurong, poin...|(13423,[7,11,31,6...|(13423,[7,11,31,6...|(13424,[7,11,31,6...|\n",
      "|  ham|Ok lar... Joking ...|    29|  0.0|[ok, lar..., joki...|[ok, lar..., joki...|(13423,[0,24,301,...|(13423,[0,24,301,...|(13424,[0,24,301,...|\n",
      "| spam|Free entry in 2 a...|   155|  1.0|[free, entry, in,...|[free, entry, 2, ...|(13423,[2,13,19,3...|(13423,[2,13,19,3...|(13424,[2,13,19,3...|\n",
      "|  ham|U dun say so earl...|    49|  0.0|[u, dun, say, so,...|[u, dun, say, ear...|(13423,[0,70,80,1...|(13423,[0,70,80,1...|(13424,[0,70,80,1...|\n",
      "|  ham|Nah I don't think...|    61|  0.0|[nah, i, don't, t...|[nah, think, goes...|(13423,[36,134,31...|(13423,[36,134,31...|(13424,[36,134,31...|\n",
      "+-----+--------------------+------+-----+--------------------+--------------------+--------------------+--------------------+--------------------+\n",
      "only showing top 5 rows\n",
      "\n"
     ]
    }
   ],
   "source": [
    "clean_df.show(5)"
   ]
  },
  {
   "cell_type": "code",
   "execution_count": 16,
   "id": "55a1fd80",
   "metadata": {},
   "outputs": [],
   "source": [
    "clean_df= clean_df.select(['label', 'features'])"
   ]
  },
  {
   "cell_type": "code",
   "execution_count": 17,
   "id": "0fd06cbd",
   "metadata": {},
   "outputs": [],
   "source": [
    "(train, test)= clean_df.randomSplit([0.7,0.3], seed= 42)"
   ]
  },
  {
   "cell_type": "code",
   "execution_count": 18,
   "id": "ab9ffe49",
   "metadata": {},
   "outputs": [],
   "source": [
    "pred= nb.fit(train)"
   ]
  },
  {
   "cell_type": "code",
   "execution_count": 19,
   "id": "deba631c",
   "metadata": {},
   "outputs": [],
   "source": [
    "results= pred.transform(test)"
   ]
  },
  {
   "cell_type": "code",
   "execution_count": 20,
   "id": "72898ab3",
   "metadata": {},
   "outputs": [
    {
     "name": "stdout",
     "output_type": "stream",
     "text": [
      "+-----+--------------------+--------------------+--------------------+----------+\n",
      "|label|            features|       rawPrediction|         probability|prediction|\n",
      "+-----+--------------------+--------------------+--------------------+----------+\n",
      "|  0.0|(13424,[0,1,2,41,...|[-1066.4444494620...|[1.0,2.9801047802...|       0.0|\n",
      "|  0.0|(13424,[0,1,5,20,...|[-808.28928301010...|[1.0,4.7601546641...|       0.0|\n",
      "|  0.0|(13424,[0,1,7,8,1...|[-1167.3054457630...|[1.0,2.6335649563...|       0.0|\n",
      "|  0.0|(13424,[0,1,7,15,...|[-657.95991822322...|[1.0,2.6681187262...|       0.0|\n",
      "|  0.0|(13424,[0,1,12,33...|[-444.48015999387...|[1.0,1.8748881516...|       0.0|\n",
      "|  0.0|(13424,[0,1,14,18...|[-1362.7802170498...|[1.0,1.2529954030...|       0.0|\n",
      "|  0.0|(13424,[0,1,14,31...|[-215.54775472262...|[1.0,4.8844219551...|       0.0|\n",
      "|  0.0|(13424,[0,1,18,20...|[-830.46884103326...|[1.0,8.0551837369...|       0.0|\n",
      "|  0.0|(13424,[0,1,21,27...|[-774.83487436693...|[1.0,2.5889764398...|       0.0|\n",
      "|  0.0|(13424,[0,1,23,63...|[-1309.0456641821...|[1.0,8.2582011716...|       0.0|\n",
      "|  0.0|(13424,[0,1,24,31...|[-354.46320674864...|[1.0,7.5649711943...|       0.0|\n",
      "|  0.0|(13424,[0,1,31,43...|[-340.93957121788...|[1.0,2.0631902921...|       0.0|\n",
      "|  0.0|(13424,[0,1,43,69...|[-618.83925366696...|[0.99827505189683...|       0.0|\n",
      "|  0.0|(13424,[0,1,46,17...|[-1140.6301481359...|[1.82198214221076...|       1.0|\n",
      "|  0.0|(13424,[0,1,150,1...|[-253.91981870012...|[0.33327258108421...|       1.0|\n",
      "|  0.0|(13424,[0,1,500,5...|[-320.29134056500...|[0.99999999999971...|       0.0|\n",
      "|  0.0|(13424,[0,1,881,1...|[-100.34256992170...|[0.99999815441238...|       0.0|\n",
      "|  0.0|(13424,[0,2,3,5,6...|[-2589.6930010909...|[1.0,1.2130143942...|       0.0|\n",
      "|  0.0|(13424,[0,2,3,6,9...|[-3414.0288158764...|[1.0,4.3170060175...|       0.0|\n",
      "|  0.0|(13424,[0,2,3,6,9...|[-3414.0288158764...|[1.0,4.3170060175...|       0.0|\n",
      "+-----+--------------------+--------------------+--------------------+----------+\n",
      "only showing top 20 rows\n",
      "\n"
     ]
    }
   ],
   "source": [
    "results.show()"
   ]
  },
  {
   "cell_type": "code",
   "execution_count": 21,
   "id": "d9ba97c5",
   "metadata": {},
   "outputs": [
    {
     "name": "stdout",
     "output_type": "stream",
     "text": [
      "Accuracy: 92.97146121523177%\n"
     ]
    }
   ],
   "source": [
    "evl= MulticlassClassificationEvaluator()\n",
    "acc= evl.evaluate(results)\n",
    "print(f'Accuracy: {acc*100}%')"
   ]
  },
  {
   "cell_type": "code",
   "execution_count": null,
   "id": "db988ced",
   "metadata": {},
   "outputs": [],
   "source": []
  }
 ],
 "metadata": {
  "kernelspec": {
   "display_name": "Python 3 (ipykernel)",
   "language": "python",
   "name": "python3"
  },
  "language_info": {
   "codemirror_mode": {
    "name": "ipython",
    "version": 3
   },
   "file_extension": ".py",
   "mimetype": "text/x-python",
   "name": "python",
   "nbconvert_exporter": "python",
   "pygments_lexer": "ipython3",
   "version": "3.9.7"
  }
 },
 "nbformat": 4,
 "nbformat_minor": 5
}
