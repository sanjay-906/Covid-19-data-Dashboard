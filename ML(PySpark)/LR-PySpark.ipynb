{
 "cells": [
  {
   "cell_type": "code",
   "execution_count": 1,
   "id": "8a65c3b7",
   "metadata": {},
   "outputs": [],
   "source": [
    "import os\n",
    "import sys\n",
    "from pyspark.ml.regression import LinearRegression\n",
    "from pyspark.sql import SparkSession\n",
    "from pyspark.ml.linalg import Vectors\n",
    "from pyspark.ml.feature import VectorAssembler\n",
    "os.environ['PYSPARK_PYTHON'] = sys.executable\n",
    "os.environ['PYSPARK_DRIVER_PYTHON'] = sys.executable\n",
    "\n",
    "\n"
   ]
  },
  {
   "cell_type": "code",
   "execution_count": 2,
   "id": "789544a5",
   "metadata": {},
   "outputs": [],
   "source": [
    "spark= SparkSession.builder.getOrCreate()"
   ]
  },
  {
   "cell_type": "code",
   "execution_count": 3,
   "id": "bbd1692b",
   "metadata": {},
   "outputs": [],
   "source": [
    "spark.conf.set(\"spark.sql.execution.arrow.pyspark.enabled\", \"true\")"
   ]
  },
  {
   "cell_type": "code",
   "execution_count": 4,
   "id": "76c93235",
   "metadata": {},
   "outputs": [],
   "source": [
    "df= spark.read.csv(\"Ecommerce_Customers.csv\", inferSchema= True, header= True)"
   ]
  },
  {
   "cell_type": "code",
   "execution_count": 5,
   "id": "2c755754",
   "metadata": {},
   "outputs": [
    {
     "name": "stdout",
     "output_type": "stream",
     "text": [
      "root\n",
      " |-- Email: string (nullable = true)\n",
      " |-- Address: string (nullable = true)\n",
      " |-- Avatar: string (nullable = true)\n",
      " |-- Avg Session Length: double (nullable = true)\n",
      " |-- Time on App: double (nullable = true)\n",
      " |-- Time on Website: double (nullable = true)\n",
      " |-- Length of Membership: double (nullable = true)\n",
      " |-- Yearly Amount Spent: double (nullable = true)\n",
      "\n"
     ]
    }
   ],
   "source": [
    "df.printSchema()"
   ]
  },
  {
   "cell_type": "code",
   "execution_count": 6,
   "id": "81b42ba0",
   "metadata": {},
   "outputs": [
    {
     "data": {
      "text/plain": [
       "Row(Email='mstephenson@fernandez.com', Address='835 Frank TunnelWrightmouth, MI 82180-9605', Avatar='Violet', Avg Session Length=34.49726772511229, Time on App=12.65565114916675, Time on Website=39.57766801952616, Length of Membership=4.0826206329529615, Yearly Amount Spent=587.9510539684005)"
      ]
     },
     "execution_count": 6,
     "metadata": {},
     "output_type": "execute_result"
    }
   ],
   "source": [
    "df.head()"
   ]
  },
  {
   "cell_type": "code",
   "execution_count": 7,
   "id": "d237cf13",
   "metadata": {},
   "outputs": [
    {
     "name": "stdout",
     "output_type": "stream",
     "text": [
      "+--------------------+--------------------+------+------------------+-----------------+-----------------+--------------------+-------------------+\n",
      "|               Email|             Address|Avatar|Avg Session Length|      Time on App|  Time on Website|Length of Membership|Yearly Amount Spent|\n",
      "+--------------------+--------------------+------+------------------+-----------------+-----------------+--------------------+-------------------+\n",
      "|mstephenson@ferna...|835 Frank TunnelW...|Violet| 34.49726772511229|12.65565114916675|39.57766801952616|  4.0826206329529615|  587.9510539684005|\n",
      "+--------------------+--------------------+------+------------------+-----------------+-----------------+--------------------+-------------------+\n",
      "only showing top 1 row\n",
      "\n"
     ]
    }
   ],
   "source": [
    "df.show(1)"
   ]
  },
  {
   "cell_type": "code",
   "execution_count": 8,
   "id": "da77aa2b",
   "metadata": {},
   "outputs": [
    {
     "data": {
      "text/plain": [
       "['Email',\n",
       " 'Address',\n",
       " 'Avatar',\n",
       " 'Avg Session Length',\n",
       " 'Time on App',\n",
       " 'Time on Website',\n",
       " 'Length of Membership',\n",
       " 'Yearly Amount Spent']"
      ]
     },
     "execution_count": 8,
     "metadata": {},
     "output_type": "execute_result"
    }
   ],
   "source": [
    "df.columns"
   ]
  },
  {
   "cell_type": "code",
   "execution_count": 9,
   "id": "97b1fc29",
   "metadata": {},
   "outputs": [],
   "source": [
    "assembler= VectorAssembler(inputCols=['Avg Session Length',\n",
    " 'Time on App',\n",
    " 'Time on Website',\n",
    " 'Length of Membership'], outputCol= 'features')"
   ]
  },
  {
   "cell_type": "code",
   "execution_count": 10,
   "id": "a2f8e660",
   "metadata": {},
   "outputs": [],
   "source": [
    "df1= df.select('Avg Session Length',\n",
    " 'Time on App',\n",
    " 'Time on Website',\n",
    " 'Length of Membership',\n",
    " 'Yearly Amount Spent')"
   ]
  },
  {
   "cell_type": "code",
   "execution_count": 11,
   "id": "f7a08b6e",
   "metadata": {},
   "outputs": [],
   "source": [
    "output= assembler.transform(df1)"
   ]
  },
  {
   "cell_type": "code",
   "execution_count": 12,
   "id": "0c0c2337",
   "metadata": {},
   "outputs": [],
   "source": [
    "final= output.select('features', 'Yearly Amount Spent')"
   ]
  },
  {
   "cell_type": "code",
   "execution_count": 13,
   "id": "fb83a0bb",
   "metadata": {},
   "outputs": [],
   "source": [
    "train_data, test_data= final.randomSplit([0.7, 0.3])"
   ]
  },
  {
   "cell_type": "code",
   "execution_count": 14,
   "id": "54142d41",
   "metadata": {},
   "outputs": [
    {
     "name": "stdout",
     "output_type": "stream",
     "text": [
      "+-------+-------------------+\n",
      "|summary|Yearly Amount Spent|\n",
      "+-------+-------------------+\n",
      "|  count|                350|\n",
      "|   mean| 496.16176891550765|\n",
      "| stddev|  80.01198088367885|\n",
      "|    min| 256.67058229005585|\n",
      "|    max|  765.5184619388373|\n",
      "+-------+-------------------+\n",
      "\n"
     ]
    }
   ],
   "source": [
    "train_data.describe().show()"
   ]
  },
  {
   "cell_type": "code",
   "execution_count": 15,
   "id": "cf0acdab",
   "metadata": {},
   "outputs": [
    {
     "name": "stdout",
     "output_type": "stream",
     "text": [
      "+-------+-------------------+\n",
      "|summary|Yearly Amount Spent|\n",
      "+-------+-------------------+\n",
      "|  count|                150|\n",
      "|   mean|  506.6693333924511|\n",
      "| stddev|   77.4277950390187|\n",
      "|    min|  275.9184206503857|\n",
      "|    max|  689.2356997616951|\n",
      "+-------+-------------------+\n",
      "\n"
     ]
    }
   ],
   "source": [
    "test_data.describe().show()"
   ]
  },
  {
   "cell_type": "code",
   "execution_count": 16,
   "id": "c96039b3",
   "metadata": {},
   "outputs": [],
   "source": [
    "lr= LinearRegression(labelCol= 'Yearly Amount Spent')"
   ]
  },
  {
   "cell_type": "code",
   "execution_count": 17,
   "id": "5891815d",
   "metadata": {},
   "outputs": [],
   "source": [
    "model= lr.fit(train_data)"
   ]
  },
  {
   "cell_type": "code",
   "execution_count": 18,
   "id": "d010ead7",
   "metadata": {},
   "outputs": [],
   "source": [
    "results= model.evaluate(train_data)"
   ]
  },
  {
   "cell_type": "code",
   "execution_count": 19,
   "id": "c616e210",
   "metadata": {},
   "outputs": [
    {
     "name": "stdout",
     "output_type": "stream",
     "text": [
      "Mean Squared Error: 99.28493836501569\n"
     ]
    }
   ],
   "source": [
    "print('Mean Squared Error:', results.meanSquaredError)"
   ]
  },
  {
   "cell_type": "code",
   "execution_count": 20,
   "id": "fca9ea31",
   "metadata": {},
   "outputs": [
    {
     "name": "stdout",
     "output_type": "stream",
     "text": [
      "Rsquared Error: 0.9844469365803752\n"
     ]
    }
   ],
   "source": [
    "print('Rsquared Error:', results.r2)"
   ]
  },
  {
   "cell_type": "code",
   "execution_count": 21,
   "id": "e93104dc",
   "metadata": {},
   "outputs": [],
   "source": [
    "unlabeled_data= test_data.select('features')"
   ]
  },
  {
   "cell_type": "code",
   "execution_count": 22,
   "id": "54320d95",
   "metadata": {},
   "outputs": [
    {
     "name": "stdout",
     "output_type": "stream",
     "text": [
      "+--------------------+------------------+\n",
      "|            features|        prediction|\n",
      "+--------------------+------------------+\n",
      "|[30.8364326747734...|  471.859078330456|\n",
      "|[30.8794843441274...| 494.2230903106399|\n",
      "|[31.0472221394875...|388.62736461935356|\n",
      "|[31.0662181616375...| 461.7791617654698|\n",
      "|[31.1280900496166...| 564.4130940499624|\n",
      "|[31.2834474760581...| 568.9744486279051|\n",
      "|[31.3091926408918...| 429.9374478655541|\n",
      "|[31.3895854806643...| 409.8545990065745|\n",
      "|[31.4252268808548...| 534.7385438968865|\n",
      "|[31.5171218025062...| 281.6828402211472|\n",
      "|[31.5316044825729...|  433.917595331563|\n",
      "|[31.5741380228732...| 558.3592559337765|\n",
      "|[31.6005122003032...| 461.2319177534339|\n",
      "|[31.6548096756927...|469.15579963835376|\n",
      "|[31.7656188210424...|501.38258117469627|\n",
      "|[31.8093003166791...| 547.2201696104312|\n",
      "|[31.8164283341993...| 519.2311609273252|\n",
      "|[31.8209982016720...|417.29563626060644|\n",
      "|[31.8279790554652...| 449.7741676485025|\n",
      "|[31.9048571310136...|491.12065462318765|\n",
      "+--------------------+------------------+\n",
      "only showing top 20 rows\n",
      "\n"
     ]
    }
   ],
   "source": [
    "predictions= model.transform(unlabeled_data)\n",
    "predictions.show()"
   ]
  },
  {
   "cell_type": "code",
   "execution_count": 23,
   "id": "45dbb4b7",
   "metadata": {},
   "outputs": [
    {
     "name": "stdout",
     "output_type": "stream",
     "text": [
      "+--------------------+-------------------+\n",
      "|            features|Yearly Amount Spent|\n",
      "+--------------------+-------------------+\n",
      "|[30.8364326747734...|  467.5019004269896|\n",
      "|[30.8794843441274...|  490.2065999848547|\n",
      "|[31.0472221394875...|  392.4973991890214|\n",
      "|[31.0662181616375...| 448.93329320767435|\n",
      "|[31.1280900496166...|  557.2526867470547|\n",
      "|[31.2834474760581...|  591.7810894256675|\n",
      "|[31.3091926408918...|  432.7207178399336|\n",
      "|[31.3895854806643...|  410.0696110599829|\n",
      "|[31.4252268808548...|  530.7667186547619|\n",
      "|[31.5171218025062...|  275.9184206503857|\n",
      "|[31.5316044825729...| 436.51560572936256|\n",
      "|[31.5741380228732...|  544.4092721605869|\n",
      "|[31.6005122003032...| 479.17285149109694|\n",
      "|[31.6548096756927...|  475.2634237275485|\n",
      "|[31.7656188210424...| 496.55408163560713|\n",
      "|[31.8093003166791...|  536.7718993628412|\n",
      "|[31.8164283341993...| 501.12249150365636|\n",
      "|[31.8209982016720...| 424.67528101321335|\n",
      "|[31.8279790554652...|  440.0027475469415|\n",
      "|[31.9048571310136...| 473.94985742281614|\n",
      "+--------------------+-------------------+\n",
      "only showing top 20 rows\n",
      "\n"
     ]
    }
   ],
   "source": [
    "actual =test_data.select('features','Yearly Amount Spent')\n",
    "actual.show()"
   ]
  },
  {
   "cell_type": "code",
   "execution_count": 24,
   "id": "332580b9",
   "metadata": {},
   "outputs": [],
   "source": [
    "test_results= model.evaluate(test_data)"
   ]
  },
  {
   "cell_type": "code",
   "execution_count": 25,
   "id": "0a8a2a84",
   "metadata": {},
   "outputs": [
    {
     "name": "stdout",
     "output_type": "stream",
     "text": [
      "Mean Squared Error: 97.50205785142307\n"
     ]
    }
   ],
   "source": [
    "print('Mean Squared Error:', test_results.meanSquaredError)"
   ]
  },
  {
   "cell_type": "code",
   "execution_count": 26,
   "id": "ab2f0f09",
   "metadata": {},
   "outputs": [
    {
     "name": "stdout",
     "output_type": "stream",
     "text": [
      "Rsquared Error: 0.9836271233848314\n"
     ]
    }
   ],
   "source": [
    "print('Rsquared Error:', test_results.r2)"
   ]
  },
  {
   "cell_type": "code",
   "execution_count": 27,
   "id": "7746b88d",
   "metadata": {},
   "outputs": [
    {
     "name": "stdout",
     "output_type": "stream",
     "text": [
      "Coefficients: [25.6160494322268,38.73862767335686,0.5979802991602282,61.10893365915443]\n",
      "Intercept: -1052.425466136453\n"
     ]
    }
   ],
   "source": [
    "print(\"Coefficients: \" + str(model.coefficients))\n",
    "print(\"Intercept: \" + str(model.intercept))"
   ]
  }
 ],
 "metadata": {
  "kernelspec": {
   "display_name": "Python 3 (ipykernel)",
   "language": "python",
   "name": "python3"
  },
  "language_info": {
   "codemirror_mode": {
    "name": "ipython",
    "version": 3
   },
   "file_extension": ".py",
   "mimetype": "text/x-python",
   "name": "python",
   "nbconvert_exporter": "python",
   "pygments_lexer": "ipython3",
   "version": "3.9.7"
  }
 },
 "nbformat": 4,
 "nbformat_minor": 5
}
