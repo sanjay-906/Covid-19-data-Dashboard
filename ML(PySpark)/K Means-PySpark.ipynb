{
 "cells": [
  {
   "cell_type": "code",
   "execution_count": 1,
   "id": "becd38b2",
   "metadata": {},
   "outputs": [],
   "source": [
    "from pyspark.sql import SparkSession\n",
    "import matplotlib.pyplot as plt\n",
    "from pyspark.ml.linalg import Vectors\n",
    "from pyspark.ml.feature import VectorAssembler\n",
    "from pyspark.ml.feature import StandardScaler\n",
    "from pyspark.ml.clustering import KMeans\n",
    "from pyspark.ml.evaluation import ClusteringEvaluator"
   ]
  },
  {
   "cell_type": "code",
   "execution_count": 2,
   "id": "ddfc872b",
   "metadata": {},
   "outputs": [],
   "source": [
    "spark= SparkSession.builder.getOrCreate()"
   ]
  },
  {
   "cell_type": "code",
   "execution_count": 3,
   "id": "45c99201",
   "metadata": {},
   "outputs": [],
   "source": [
    "df= spark.read.csv(\"hack_data.csv\", header= True, inferSchema= True)"
   ]
  },
  {
   "cell_type": "code",
   "execution_count": 4,
   "id": "1abf1163",
   "metadata": {},
   "outputs": [
    {
     "name": "stdout",
     "output_type": "stream",
     "text": [
      "+-----------------------+-----------------+---------------+-----------------+---------------+--------------------+----------------+\n",
      "|Session_Connection_Time|Bytes Transferred|Kali_Trace_Used|Servers_Corrupted|Pages_Corrupted|            Location|WPM_Typing_Speed|\n",
      "+-----------------------+-----------------+---------------+-----------------+---------------+--------------------+----------------+\n",
      "|                    8.0|           391.09|              1|             2.96|            7.0|            Slovenia|           72.37|\n",
      "|                   20.0|           720.99|              0|             3.04|            9.0|British Virgin Is...|           69.08|\n",
      "+-----------------------+-----------------+---------------+-----------------+---------------+--------------------+----------------+\n",
      "only showing top 2 rows\n",
      "\n"
     ]
    }
   ],
   "source": [
    "df.show(2)"
   ]
  },
  {
   "cell_type": "code",
   "execution_count": 5,
   "id": "119c248a",
   "metadata": {},
   "outputs": [
    {
     "data": {
      "text/plain": [
       "['Session_Connection_Time',\n",
       " 'Bytes Transferred',\n",
       " 'Kali_Trace_Used',\n",
       " 'Servers_Corrupted',\n",
       " 'Pages_Corrupted',\n",
       " 'Location',\n",
       " 'WPM_Typing_Speed']"
      ]
     },
     "execution_count": 5,
     "metadata": {},
     "output_type": "execute_result"
    }
   ],
   "source": [
    "df.columns"
   ]
  },
  {
   "cell_type": "code",
   "execution_count": 6,
   "id": "afe5f2b2",
   "metadata": {},
   "outputs": [
    {
     "data": {
      "text/html": [
       "<div>\n",
       "<style scoped>\n",
       "    .dataframe tbody tr th:only-of-type {\n",
       "        vertical-align: middle;\n",
       "    }\n",
       "\n",
       "    .dataframe tbody tr th {\n",
       "        vertical-align: top;\n",
       "    }\n",
       "\n",
       "    .dataframe thead th {\n",
       "        text-align: right;\n",
       "    }\n",
       "</style>\n",
       "<table border=\"1\" class=\"dataframe\">\n",
       "  <thead>\n",
       "    <tr style=\"text-align: right;\">\n",
       "      <th></th>\n",
       "      <th>summary</th>\n",
       "      <th>Session_Connection_Time</th>\n",
       "      <th>Bytes Transferred</th>\n",
       "      <th>Kali_Trace_Used</th>\n",
       "      <th>Servers_Corrupted</th>\n",
       "      <th>Pages_Corrupted</th>\n",
       "      <th>Location</th>\n",
       "      <th>WPM_Typing_Speed</th>\n",
       "    </tr>\n",
       "  </thead>\n",
       "  <tbody>\n",
       "    <tr>\n",
       "      <th>0</th>\n",
       "      <td>count</td>\n",
       "      <td>334</td>\n",
       "      <td>334</td>\n",
       "      <td>334</td>\n",
       "      <td>334</td>\n",
       "      <td>334</td>\n",
       "      <td>334</td>\n",
       "      <td>334</td>\n",
       "    </tr>\n",
       "    <tr>\n",
       "      <th>1</th>\n",
       "      <td>mean</td>\n",
       "      <td>30.008982035928145</td>\n",
       "      <td>607.2452694610777</td>\n",
       "      <td>0.5119760479041916</td>\n",
       "      <td>5.258502994011977</td>\n",
       "      <td>10.838323353293413</td>\n",
       "      <td>None</td>\n",
       "      <td>57.342395209580864</td>\n",
       "    </tr>\n",
       "    <tr>\n",
       "      <th>2</th>\n",
       "      <td>stddev</td>\n",
       "      <td>14.088200614636158</td>\n",
       "      <td>286.33593163576757</td>\n",
       "      <td>0.5006065264451406</td>\n",
       "      <td>2.30190693339697</td>\n",
       "      <td>3.06352633036022</td>\n",
       "      <td>None</td>\n",
       "      <td>13.41106336843464</td>\n",
       "    </tr>\n",
       "    <tr>\n",
       "      <th>3</th>\n",
       "      <td>min</td>\n",
       "      <td>1.0</td>\n",
       "      <td>10.0</td>\n",
       "      <td>0</td>\n",
       "      <td>1.0</td>\n",
       "      <td>6.0</td>\n",
       "      <td>Afghanistan</td>\n",
       "      <td>40.0</td>\n",
       "    </tr>\n",
       "    <tr>\n",
       "      <th>4</th>\n",
       "      <td>max</td>\n",
       "      <td>60.0</td>\n",
       "      <td>1330.5</td>\n",
       "      <td>1</td>\n",
       "      <td>10.0</td>\n",
       "      <td>15.0</td>\n",
       "      <td>Zimbabwe</td>\n",
       "      <td>75.0</td>\n",
       "    </tr>\n",
       "  </tbody>\n",
       "</table>\n",
       "</div>"
      ],
      "text/plain": [
       "  summary Session_Connection_Time   Bytes Transferred     Kali_Trace_Used  \\\n",
       "0   count                     334                 334                 334   \n",
       "1    mean      30.008982035928145   607.2452694610777  0.5119760479041916   \n",
       "2  stddev      14.088200614636158  286.33593163576757  0.5006065264451406   \n",
       "3     min                     1.0                10.0                   0   \n",
       "4     max                    60.0              1330.5                   1   \n",
       "\n",
       "   Servers_Corrupted     Pages_Corrupted     Location    WPM_Typing_Speed  \n",
       "0                334                 334          334                 334  \n",
       "1  5.258502994011977  10.838323353293413         None  57.342395209580864  \n",
       "2   2.30190693339697    3.06352633036022         None   13.41106336843464  \n",
       "3                1.0                 6.0  Afghanistan                40.0  \n",
       "4               10.0                15.0     Zimbabwe                75.0  "
      ]
     },
     "execution_count": 6,
     "metadata": {},
     "output_type": "execute_result"
    }
   ],
   "source": [
    "df.describe().toPandas()"
   ]
  },
  {
   "cell_type": "code",
   "execution_count": 7,
   "id": "69a790f6",
   "metadata": {},
   "outputs": [],
   "source": [
    "feature_cols=['Session_Connection_Time',\n",
    " 'Bytes Transferred',\n",
    " 'Kali_Trace_Used',\n",
    " 'Servers_Corrupted',\n",
    " 'Pages_Corrupted',\n",
    " 'WPM_Typing_Speed'    \n",
    "]"
   ]
  },
  {
   "cell_type": "code",
   "execution_count": 8,
   "id": "5c31582e",
   "metadata": {},
   "outputs": [],
   "source": [
    "assembler= VectorAssembler(inputCols= feature_cols, outputCol='features')"
   ]
  },
  {
   "cell_type": "code",
   "execution_count": 9,
   "id": "19384ce8",
   "metadata": {},
   "outputs": [],
   "source": [
    "final= assembler.transform(df)"
   ]
  },
  {
   "cell_type": "code",
   "execution_count": 10,
   "id": "6a7fa80a",
   "metadata": {},
   "outputs": [],
   "source": [
    "scaler= StandardScaler(inputCol= 'features', \n",
    "                       outputCol= 'scaled_feat',\n",
    "                       withStd= True,\n",
    "                       withMean= False)"
   ]
  },
  {
   "cell_type": "code",
   "execution_count": 11,
   "id": "27c1cbed",
   "metadata": {},
   "outputs": [],
   "source": [
    "scaled_model= scaler.fit(final)"
   ]
  },
  {
   "cell_type": "code",
   "execution_count": 12,
   "id": "cf1800f7",
   "metadata": {},
   "outputs": [],
   "source": [
    "cluster_df= scaled_model.transform(final)"
   ]
  },
  {
   "cell_type": "code",
   "execution_count": 13,
   "id": "0486af86",
   "metadata": {},
   "outputs": [],
   "source": [
    "evaluator= ClusteringEvaluator(predictionCol= 'prediction',\n",
    "                          featuresCol= 'scaled_feat',\n",
    "                          metricName= 'silhouette',\n",
    "                          distanceMeasure= 'squaredEuclidean')"
   ]
  },
  {
   "cell_type": "code",
   "execution_count": 14,
   "id": "fa939569",
   "metadata": {},
   "outputs": [
    {
     "name": "stdout",
     "output_type": "stream",
     "text": [
      "Silhoutte scores for K Means Clustering\n",
      "K=2\t0.82\n",
      "K=3\t0.76\n",
      "K=4\t0.72\n",
      "K=5\t0.6\n",
      "K=6\t0.56\n",
      "K=7\t0.55\n",
      "K=8\t0.45\n",
      "K=9\t0.51\n"
     ]
    }
   ],
   "source": [
    "silhouette_score= []\n",
    "print('Silhoutte scores for K Means Clustering')\n",
    "for k in range(2,10):\n",
    "    kmeans_algo= KMeans(featuresCol= 'scaled_feat', k=k)\n",
    "    kmeans_fit= kmeans_algo.fit(cluster_df)\n",
    "    output= kmeans_fit.transform(cluster_df)\n",
    "    score= evaluator.evaluate(output)\n",
    "    silhouette_score.append(score)\n",
    "    print(f\"K={k}\\t{round(score,2)}\")"
   ]
  },
  {
   "cell_type": "markdown",
   "id": "f4ebf1ae",
   "metadata": {},
   "source": [
    "There are 2 hackers (highly likely)"
   ]
  },
  {
   "cell_type": "code",
   "execution_count": 15,
   "id": "43bcdb6c",
   "metadata": {},
   "outputs": [
    {
     "data": {
      "image/png": "[encoded data removed]",
      "text/plain": [
       "<Figure size 720x720 with 1 Axes>"
      ]
     },
     "metadata": {
      "needs_background": "light"
     },
     "output_type": "display_data"
    }
   ],
   "source": [
    "fig, ax= plt.subplots(1,1,figsize=(10,10))\n",
    "ax.plot(range(2,10), silhouette_score)\n",
    "ax.set_xlabel(\"K\")\n",
    "ax.set_ylabel(\"Score\")\n",
    "ax.set_title(\"K value vs Score\");"
   ]
  },
  {
   "cell_type": "code",
   "execution_count": null,
   "id": "a9c69f39",
   "metadata": {},
   "outputs": [],
   "source": []
  }
 ],
 "metadata": {
  "kernelspec": {
   "display_name": "Python 3 (ipykernel)",
   "language": "python",
   "name": "python3"
  },
  "language_info": {
   "codemirror_mode": {
    "name": "ipython",
    "version": 3
   },
   "file_extension": ".py",
   "mimetype": "text/x-python",
   "name": "python",
   "nbconvert_exporter": "python",
   "pygments_lexer": "ipython3",
   "version": "3.9.7"
  }
 },
 "nbformat": 4,
 "nbformat_minor": 5
}
